{
 "cells": [
  {
   "cell_type": "markdown",
   "metadata": {},
   "source": [
    "<h1 style=\"color:#00A6D6;\">Week 1 - From essential tools to the first quantum protocol</h1>\n",
    "\n",
    "Welcome to the lab exercises in Julia for Week 1. If you followed Week 0, you can skip right ahead to the material!\n",
    "\n",
    "These notebooks are meant to help you study the material by performing many calculations in an easy and intuitive manner - in short, by playing around!\n",
    "\n",
    "Each notebook consists out of two types of parts:\n",
    "\n",
    "First off, there are parts where Julia is used to make certain calculations and visualize the outcomes: The computer programming makes it possible to calculate and visualize things that are otherwise difficult. You may wish to change the examples, or extend them to perform other calculations that help you become familiar with the material in our class and beyond. \n",
    "\n",
    "Secondly, each notebook has a few homework exercises marked \"edX Exercises\". These are calculations that we would definitely like you to perform. The answers to these need to be entered into the edX system, they are graded as part of the course. Completion of these exercises accounts for 20% of the total course completion.\n",
    "\n",
    "### If you have never used a Julia sheet before, we recommend you to begin with the \"Getting Started\" notebook that came with the week_0 material, github link: https://github.com/QuCryptoX/Week_1. \n",
    "\n",
    "Ready? Then let's get started! Click shift-enter in the box below to load the first snippet of Julia!"
   ]
  },
  {
   "cell_type": "code",
   "execution_count": null,
   "metadata": {
    "collapsed": false
   },
   "outputs": [],
   "source": [
    "include(\"source/main.jl\"); # load the \"quantum toolbox\""
   ]
  },
  {
   "cell_type": "markdown",
   "metadata": {},
   "source": [
    "Notice that the line above will make the Julia compiler compile several packages. After compiling them it will print several info and warning messages."
   ]
  },
  {
   "cell_type": "markdown",
   "metadata": {},
   "source": [
    "* <a href=\"#week1\"> Week 1: One Time Pad </a>\n",
    "\n",
    "    * <a href=\"#density\"> Density Matrices </a>\n",
    "\n",
    "    * <a href=\"#cotp\"> Classical One Time Pad </a>\n",
    "\n",
    "    * <a href=\"#qotp\"> Quantum One Time Pad </a>\n",
    "    \n",
    "    * <a href=\"#cqstates\"> Classical Quantum States </a>\n",
    "\n",
    "    * <a href=\"#gmeasurements\"> Generalized Measurements </a>\n",
    "    \n",
    "    * <a href=\"#ptrace\"> Partial Trace </a>"
   ]
  },
  {
   "cell_type": "markdown",
   "metadata": {},
   "source": [
    "------\n",
    "<a id=\"density\"></a>\n",
    "<h2 style=\"color:#00A6D6;\"> Density Matrices </h2>\n",
    "\n",
    "The first thing we learned this week was an alternate way of writing quantum states: as density matrices. This description is essential when we want to describe part of a larger quantum system. For example, we may have two qubits A and B in a state $|\\Psi_{AB}\\rangle$ and would like to have a mathematical way of writing down the state of A. We will explore this application of density matrices in detail below!\n",
    "\n",
    "When is a matrix $\\rho$ a density matrix? Remember that is should satisfy two conditions. First $\\rho \\geq 0$, that is $\\rho^\\dagger = \\rho$ ($\\rho$ is Hermitian) and should have no negative eigenvalues! Second, $Tr(\\rho) = 1$.\n",
    "\n",
    "Let's investigate how we can check these conditions in Julia."
   ]
  },
  {
   "cell_type": "code",
   "execution_count": null,
   "metadata": {
    "collapsed": false
   },
   "outputs": [],
   "source": [
    "# Let's define a density matrix\n",
    "rho = 0.5*[1 1; 1 1];\n",
    "\n",
    "# Is rho Hermitian?\n",
    "print(\"Hermitian \")\n",
    "show(rho == rho')\n",
    "print(\"\\n\")\n",
    "\n",
    "# Does it have any negative eigenvalues?\n",
    "print(\"Eigenvalues are \")\n",
    "eVal = eigvals(rho);\n",
    "show(round(eVal,3))\n",
    "print(\"\\n\")\n",
    "\n",
    "# Does it have trace 1?\n",
    "print(\"Trace of rho is \")\n",
    "tr = trace(rho);\n",
    "show(round(tr,3))"
   ]
  },
  {
   "cell_type": "markdown",
   "metadata": {},
   "source": [
    "As an exercise for yourself, is the following a valid density matrix - i.e., a valid quantum state?\n",
    "\n",
    "$$\\rho = \\frac{1}{2} \\left(\\begin{array}{cc} 1 & - i\\\\ - i & 1\\end{array}\\right)$$"
   ]
  },
  {
   "cell_type": "code",
   "execution_count": null,
   "metadata": {
    "collapsed": false
   },
   "outputs": [],
   "source": [
    "# Your Julia code goes here\n",
    "rho = ;\n",
    "\n",
    "# Is rho Hermitian?\n",
    "print(\"Hermitian \")\n",
    "show(rho == rho')\n",
    "print(\"\\n\")\n",
    "\n",
    "# Does it have any negative eigenvalues?\n",
    "print(\"Eigenvalues are \")\n",
    "eVal = eigvals(rho);\n",
    "show(round(eVal,3))\n",
    "print(\"\\n\")\n",
    "\n",
    "# Does it have trace 1?\n",
    "print(\"Trace of rho is \")\n",
    "tr = trace(rho);\n",
    "show(round(tr,3))"
   ]
  },
  {
   "cell_type": "markdown",
   "metadata": {},
   "source": [
    "Let's now look at the other convenient feature of density matrices, namely that they allow us to represent probabilistic mixtures of states. \n",
    "\n",
    "Imagine that our qubit is in state\n",
    "\n",
    "* $|\\psi_0\\rangle$ with probability $p_0$ \n",
    "\n",
    "and in \n",
    "\n",
    "* $|\\psi_1\\rangle$ with probability $p_1$.\n",
    "\n",
    "where $p_0 + p_1 = 1$.\n",
    "\n",
    "We can describe the effective state of the qubit as a density matrix $\\rho$\n",
    "\n",
    "$$ \\rho = p_0 \\cdot |\\psi_0 \\rangle\\langle \\psi_0| + p_1 \\cdot |\\psi_1 \\rangle\\langle \\psi_1| $$"
   ]
  },
  {
   "cell_type": "markdown",
   "metadata": {},
   "source": [
    "To see how this works, let us now compute some density matrices created by such a probablisitic process! Consider a process that prepares a qubit in the states\n",
    "\n",
    "$$ |\\psi_0\\rangle = |0\\rangle \\quad \\mbox{ with probability } p_0 = \\frac{2}{3}\\ , $$\n",
    "$$ |\\psi_1\\rangle = |+\\rangle \\quad \\mbox{ with probability } p_1 = \\frac{1}{3}\\ .$$\n",
    "\n",
    "Let's now compute the density matrix\n",
    "\n",
    "$$ \\rho = p_0 \\cdot |\\psi_0 \\rangle\\langle \\psi_0| + p_1 \\cdot |\\psi_1 \\rangle\\langle \\psi_1| \\:.$$\n"
   ]
  },
  {
   "cell_type": "code",
   "execution_count": null,
   "metadata": {
    "collapsed": false
   },
   "outputs": [],
   "source": [
    "# Let's first define the two states as vectors\n",
    "ψ_0 = [1,0]         # define the ψ_0 state, default |0>\n",
    "ψ_1 = [1,1]/sqrt(2) # define the ψ_1 state, default |+>\n",
    "\n",
    "# Let's enter the two probabilities p0 and p1\n",
    "p0 = 2/3;\n",
    "p1 = 1/3;\n",
    "\n",
    "# To compute rho, we first compute the density matrices |ψ0⟩⟨ψ0| and |ψ1⟩⟨ψ1|\n",
    "rho0 = ψ_0 * ψ_0';\n",
    "rho1 = ψ_1 * ψ_1';\n",
    "\n",
    "# We're now ready to compute the density matrix by averaging \n",
    "rho = p0 * rho0 + p1 * rho1;\n",
    "\n",
    "# Let's round the entries of the density matrix for easy viewing\n",
    "digits = 3;\n",
    "rhoRounded = round(rho,digits);\n",
    "show(rhoRounded)"
   ]
  },
  {
   "cell_type": "markdown",
   "metadata": {},
   "source": [
    "It is instructive to have a look at what this density matrix looks like as a point on the Bloch sphere. Remember, that pure states live on the surface of the Bloch sphere and mixed state in the interior.\n",
    "\n",
    "The code below generates a Bloch sphere representation of $|0\\rangle$, $|+\\rangle$  and $\\rho$.\n",
    "\n",
    "Using the slider you can select values for $p_0$ and see how this influences the position of $\\rho$ in the sphere. Can't quite make sense of where you ended up? Change the view angle!"
   ]
  },
  {
   "cell_type": "code",
   "execution_count": null,
   "metadata": {
    "collapsed": false
   },
   "outputs": [],
   "source": [
    "# First we convert the two individual states to Bloch vectors\n",
    "v_0 = ket_to_bloch(ψ_0) # construct the bloch vector associated with ψ_0\n",
    "v_1 = ket_to_bloch(ψ_1) # idem.\n",
    "\n",
    "f1 = figure(figsize=(10,10)) # make a new figure\n",
    "b1 = Bloch()  # instantiate bloch sphere instance\n",
    "\n",
    "@manipulate for view_angle = [60,15,-130], p_0 = 0:0.1:1\n",
    "    clear(b1)\n",
    "    add_vector(b1,v_0,\"\\$\\\\psi\\_0\\$\") # add v_0 to the bloch sphere\n",
    "    add_vector(b1,v_1,\"\\$\\\\psi\\_1\\$\") # idem.\n",
    "    \n",
    "    # The density matrix rho has a Bloch vector that is the average of the two individual Bloch vectors!\n",
    "    add_vector(b1,p_0*v_0 + (1-p_0)*v_1,\"\\$\\\\rho\\$\") # add Bloch vector of ρ which is a mixture of ψ_0 and ψ_1\n",
    "        \n",
    "    withfig(f1) do\n",
    "        render(b1,view_angle)\n",
    "    end\n",
    "end"
   ]
  },
  {
   "cell_type": "markdown",
   "metadata": {},
   "source": [
    "<h3 style=\"color:#00A6D6;\" > edX Exercise 1 </h3>\n",
    "\n",
    "You're now ready for the first exercise of this week! \n",
    "\n",
    "Suppose we have a qubit that is in the states\n",
    "\n",
    "$$ \\lvert\\psi_0\\rangle = \\frac{\\lvert0\\rangle + i \\: \\lvert1\\rangle}{\\sqrt{2}} \\quad \\mbox{ with probability } p_0 = \\frac{1}{2}\\ , $$\n",
    "\n",
    "\n",
    "$$ \\lvert\\psi_1\\rangle = \\frac{\\lvert0\\rangle - i \\:\\lvert1\\rangle}{\\sqrt{2}}  \\quad \\mbox{ with probability } p_1 = \\frac{1}{2}\\ .$$\n",
    "\n",
    "Compute the density matrix $$ \\rho = p_0 \\cdot \\lvert \\psi_0 \\rangle\\langle \\psi_0\\rvert + p_1 \\cdot \\lvert\\psi_1 \\rangle\\langle \\psi_1\\rvert $$"
   ]
  },
  {
   "cell_type": "code",
   "execution_count": null,
   "metadata": {
    "collapsed": false
   },
   "outputs": [],
   "source": [
    "# Your Julia codes goes here! Remember from the getting started sheet that complex i is im in Julia.\n",
    "# Let's first define the two states as vectors\n",
    "ψ_0 = [1,im]/sqrt(2)         # define the ψ_0 state, default |0>\n",
    "ψ_1 = ... # define the ψ_1 state, default |+>\n",
    "\n",
    "# Let's enter the two probabilities p0 and p1\n",
    "p0 = 1/2\n",
    "p1 = ...\n",
    "\n",
    "# To compute rho, we first compute the density matrices |ψ0⟩⟨ψ0| and |ψ1⟩⟨ψ1|\n",
    "rho0 = ψ_0 * ψ_0'\n",
    "rho1 = ψ_1 * ψ_1'\n",
    "\n",
    "# We're now ready to compute the density matrix by averaging \n",
    "rho = p0 * rho0 + p1 * rho1\n"
   ]
  },
  {
   "cell_type": "markdown",
   "metadata": {},
   "source": [
    "<h4 style=\"color:#00A6D6;\"> Supplement to Exercise 1 </h4>\n",
    "\n",
    "To get some intuition, you may again wish to visualize the situation in the Bloch sphere. As before, the code below generates an associated Bloch sphere: Different values of $p_0$ can be selected, $\\rho$ is plotted accordingly. You can set the view to -30 or +60 degrees to get a clear view angle.\n",
    "\n",
    "Can you think of any other two states $\\lvert\\psi_0\\rangle$ and $\\lvert\\psi_1\\rangle$ and probabilities $p_0$ and $p_1 = 1-p_0$ that would give the same density matrix as for the example above? Test your conjecture using the code below!"
   ]
  },
  {
   "cell_type": "code",
   "execution_count": null,
   "metadata": {
    "collapsed": false
   },
   "outputs": [],
   "source": [
    "# Change the two lines below to choose two other states!\n",
    "ψ_0 = [1,im]/sqrt(2)  # define the ψ_0 state, default |0>\n",
    "ψ_1 = [1,-im]/sqrt(2) # define the ψ_1 state, default |+>\n",
    "\n",
    "v_0 = ket_to_bloch(ψ_0) # construct the bloch vector associated with ψ_0\n",
    "v_1 = ket_to_bloch(ψ_1) # idem.\n",
    "\n",
    "f2 = figure(figsize=(8,8)) # let us make a new figure\n",
    "b2 = Bloch()  # which features a Bloch sphere\n",
    "\n",
    "@manipulate for view_angle = [15,60,-30], p_0 = 0:0.1:1\n",
    "    \n",
    "    clear(b2) # Clear the vectors/points out of Bloch sphere b2\n",
    "        \n",
    "    add_point(b2,v_0,\"\\$\\\\psi\\_0\\$\") # add the ψ_0 to the Bloch sphere\n",
    "\n",
    "    add_vector(b2,p_0*v_0 + (1-p_0)*v_1,\"\\$\\\\rho\\$\") # now also add the mixture of ψ_0 and ψ_1 : ρ₂.\n",
    "    \n",
    "    add_point(b2,v_1,\"\\$\\\\psi\\_1\\$\") # same for  ψ_1\n",
    "    \n",
    "    withfig(f2) do\n",
    "        render(b2,view_angle) # render the image\n",
    "    end\n",
    "end"
   ]
  },
  {
   "cell_type": "markdown",
   "metadata": {},
   "source": [
    "<h3 style=\"color:#00A6D6;\" >edX Exercise 2</h3>\n",
    "\n",
    "We discussed how to obtain the Bloch vector of a density matrix $\\rho$. Above, we have simply done this calculation for you in Julia to visualize the result. Here, your goal will be to determine the Bloch vector yourself!\n",
    "\n",
    "Such a Bloch vector \n",
    "\n",
    "$$v = (v_x,v_y,v_z)$$ \n",
    "\n",
    "can be found by calculating the (Hilbert-Schmidt) inner product of $\\rho$ with each of the Pauli matrices\n",
    "\n",
    "$$ X = \\begin{pmatrix} 0 & 1 \\\\ 1 & 0 \\end{pmatrix} \\quad Y = \\begin{pmatrix} 0 & -i \\\\ i & 0 \\end{pmatrix} \\quad Z = \\begin{pmatrix} 1 & 0 \\\\ 0 & -1 \\end{pmatrix} \\:.$$\n",
    "\n",
    "Namely \n",
    "\n",
    "$$v_x = \\text{Tr}(X \\cdot \\rho),\\quad  v_y = \\text{Tr}(Y \\cdot \\rho), \\quad  v_z = \\text{Tr}(Z \\cdot \\rho)\\:.$$\n",
    "\n",
    "Consider the density matrix\n",
    "\n",
    "$$ \\rho = \\left(\\begin{array}{cc} 1 & 0 \\\\ 0 & 0\\end{array}\\right)$$\n",
    "\n",
    "What is the Bloch vector $v= (v_x,v_y,v_z)$ associated with $\\rho$?\n"
   ]
  },
  {
   "cell_type": "markdown",
   "metadata": {},
   "source": [
    "<h4 style=\"color:#00A6D6;\" > Supplement to edX Exercise 2</h4>\n",
    "\n",
    "The code below can be used to calculate $v(\\rho)$ for any density matrix $\\rho$. "
   ]
  },
  {
   "cell_type": "code",
   "execution_count": null,
   "metadata": {
    "collapsed": false
   },
   "outputs": [],
   "source": [
    "# Your definition of rho code goes here\n",
    "rho = [0 0;0 1]; # change to your liking\n",
    "# Pauli X\n",
    "pX = [0 1;1 0];\n",
    "\n",
    "# Pauli Z\n",
    "pZ = [1 0;0 -1];\n",
    "\n",
    "# Pauli Y\n",
    "pY = im * pX * pZ;\n",
    "\n",
    "vx = trace(rho*pX)\n",
    "vy = trace(rho*pY)\n",
    "vz = trace(rho*pZ)\n",
    "\n",
    "println(\"v_x = $vx\")\n",
    "println(\"v_y = $vy\")\n",
    "println(\"v_z = $vz\")"
   ]
  },
  {
   "cell_type": "markdown",
   "metadata": {},
   "source": [
    "------\n",
    "<a id=\"cotp\"></a>\n",
    "<h2 style=\"color:#00A6D6;\" > Classical One Time Pad </h2>\n",
    "\n",
    "Before turning to the first quantum crypto protocol - the quantum one time pad - let's investigate the classical one time pad! \n",
    "\n",
    "Here, we image that Alice and Bob already share a randomly generated key. As outlined in the lectures, Alice encrypts the message and sends it to Bob. Let's see how this works for the example below:\n",
    "\n",
    "$$ \\text{message} = 0011 $$\n",
    "\n",
    "$$ \\text{key} = 0101 $$\n",
    "\n",
    "Resulting in the encrypted message\n",
    "\n",
    "$$ \\text{ciphertext} = \\text{Enc}(\\text{message},\\text{key}) =\\text{message} \\oplus \\text{key} \\:,$$\n",
    "\n",
    "where $\\oplus$ is the bit wise xor, i.e., the bitwise sum mod 2. \n",
    "\n",
    "Decrypting out example yields\n",
    "\n",
    "$$ \\text{decrypted message} = \\text{Dec}(\\text{ciphertext},\\text{key}) = \\text{ciphertext} \\oplus \\text{key} \\:.$$\n",
    "\n",
    "The Julia syntax for bitwise sum mod 2 is\n",
    "\n",
    "<pre> (a+b)%2 </pre>\n",
    "\n",
    "Let's now perform these operations in Julia."
   ]
  },
  {
   "cell_type": "code",
   "execution_count": null,
   "metadata": {
    "collapsed": false
   },
   "outputs": [],
   "source": [
    "# This is the message\n",
    "message = [0 0 1 1]; # one can change the default or even make it a longer bitstring\n",
    "\n",
    "# And this the key that Alice and Bob share\n",
    "key = [0 1 0 1];\n",
    "\n",
    "# Alice computes the ciphertext\n",
    "ciphertext = (message + key) % 2;\n",
    "\n",
    "# Bob decrypts\n",
    "decrypted = (ciphertext + key) % 2;\n",
    "\n",
    "# Let's display everything\n",
    "print(\"Message \", message, \"\\n\");\n",
    "print(\"Key \", key, \"\\n\");\n",
    "print(\"Ciphertext \", ciphertext, \"\\n\");\n",
    "print(\"Decrypted message \", decrypted);"
   ]
  },
  {
   "cell_type": "markdown",
   "metadata": {},
   "source": [
    "<h3 style=\"color:#00A6D6;\" > edX Exercise 3 </h3>\n",
    "\n",
    "Imagine that you are Bob. Decrypt the \n",
    "\n",
    "$$ \\text{ciphertext} = 00$$\n",
    "\n",
    "with \n",
    "\n",
    "$$ \\text{key} = 11\\ .$$\n",
    "\n",
    "What is the message?"
   ]
  },
  {
   "cell_type": "code",
   "execution_count": null,
   "metadata": {
    "collapsed": false
   },
   "outputs": [],
   "source": [
    "# Your Julia code goes here\n",
    "# This is the message\n",
    "ciphertext = ...;\n",
    "\n",
    "# And this the key that Alice and Bob share\n",
    "key = ...;\n",
    "\n",
    "# Bob decrypts\n",
    "decrypted = (ciphertext + key) % 2"
   ]
  },
  {
   "cell_type": "markdown",
   "metadata": {},
   "source": [
    "<h3 style=\"color:#00A6D6;\" > edX Exercise 4 </h3>\n",
    "\n",
    "Let's imagine Alice wants to send an image to Bob - here, we'll keep things simple and use a black and white image of 64x64 pixels. A black pixel in the image corresponds to a \"0\" and each white pixel corresponds to a \"1\".\n",
    "\n",
    "We provide you with the encrypted image and the key in the form of a binary array. Accordingly, we will ask you decrypt the image.\n",
    "\n",
    "Please run the code block just below."
   ]
  },
  {
   "cell_type": "code",
   "execution_count": null,
   "metadata": {
    "collapsed": false
   },
   "outputs": [],
   "source": [
    "# This is the key\n",
    "key = key_ex5 # please dont change this defaults\n",
    "\n",
    "# This is the encrypted image\n",
    "cipherImage = encryptedImage # please dont change this defaults"
   ]
  },
  {
   "cell_type": "markdown",
   "metadata": {},
   "source": [
    "Note that we can also think of the key as an image now. Let's display the key by itself."
   ]
  },
  {
   "cell_type": "code",
   "execution_count": null,
   "metadata": {
    "collapsed": false
   },
   "outputs": [],
   "source": [
    "image = key; \n",
    "f = figure(figsize=(2,2)) # make a new figure\n",
    "ax = gca() # ax (axes) designates the drawing area in the figure\n",
    "ax[:imshow](image,cmap=ColorMap(\"gray\")) # ax[:imshow](image) plots the image in the drawing area"
   ]
  },
  {
   "cell_type": "markdown",
   "metadata": {},
   "source": [
    "Let's now display the encrypted image. "
   ]
  },
  {
   "cell_type": "code",
   "execution_count": null,
   "metadata": {
    "collapsed": false
   },
   "outputs": [],
   "source": [
    "image = cipherImage;\n",
    "f = figure(figsize=(2,2)) # make a new figure\n",
    "ax = gca() # ax (axes) designates the drawing area in the figure\n",
    "ax[:imshow](image,cmap=ColorMap(\"gray\")) # ax[:imshow](image) plots the image in the drawing area"
   ]
  },
  {
   "cell_type": "markdown",
   "metadata": {},
   "source": [
    "<b> Finish the code below to un-encrypt the encrypted image. What do you see on the resulting image? </b>"
   ]
  },
  {
   "cell_type": "code",
   "execution_count": null,
   "metadata": {
    "collapsed": false
   },
   "outputs": [],
   "source": [
    "unenc_image = ... cipherImage ... key ... ;     # alter this to decode the image \n",
    "\n",
    "image = unenc_image;\n",
    "f = figure(figsize=(2,2)) # make a new figure\n",
    "ax = gca() # ax (axes) designates the drawing area in the figure\n",
    "ax[:imshow](image,cmap=ColorMap(\"gray\")) # ax[:imshow](image) plots the image in the drawing area"
   ]
  },
  {
   "cell_type": "markdown",
   "metadata": {},
   "source": [
    "\n",
    "<a id=\"qotp\"></a>\n",
    "<h2 style=\"color:#00A6D6;\"> Quantum One Time Pad </h2>\n",
    "\n",
    "Let's now turn to the Quantum one time pad, and let's encrypt arbitrary qubits! Remember that the quantum one time pad encrypts the qubit\n",
    "$$ \\lvert \\psi \\rangle = \\alpha \\lvert 0 \\rangle + \\beta \\lvert 1 \\rangle $$\n",
    "into \n",
    "$$\\lvert \\Psi_{\\rm enc}\\rangle = X^{k_0} Z^{k_1}\\lvert \\psi \\rangle,$$ where $X$ and $Z$ are the Pauli matrices, and $k_0$, $k_1$ make up the shared key.\n",
    "\n",
    "To decrypt, Bob computes $Z^{k_1} X^{k_0} \\lvert \\Psi_{\\rm enc}\\rangle$. \n",
    "\n",
    "Let's try the quantum one time pad using Julia code!"
   ]
  },
  {
   "cell_type": "code",
   "execution_count": null,
   "metadata": {
    "collapsed": false
   },
   "outputs": [],
   "source": [
    "# The key\n",
    "k0 = 0;\n",
    "k1 = 1;\n",
    "\n",
    "# psi = alpha |0> + beta |1> . Change to your liking.\n",
    "α = cos(pi/8);\n",
    "β = sin(pi/8);\n",
    "ψ = [α; β];\n",
    "\n",
    "# The Pauli X and Z matrices\n",
    "pX = [0 1 ; 1 0];\n",
    "pZ = [1 0 ; 0 -1];\n",
    "\n",
    "# The encrypted qubit\n",
    "psiEnc = pX^k0 * pZ^k1 * ψ;\n",
    "\n",
    "# The decrypted qubit\n",
    "psiDec = pZ^k1 * pX^k0 * psiEnc;\n",
    "\n",
    "# Now, let us calculate the average state over all possible key combinations.\n",
    "\n",
    "rho = zeros(2,2); # initialize with an array filled with zero's\n",
    "for k0 in 0:1, k1 in 0:1\n",
    "    ψ_dec = (pX^k0)*(pZ^k1)*psiEnc # transform psi according to k0 and k1\n",
    "    rho += ψ_dec * ψ_dec';\n",
    "end\n",
    "\n",
    "rho = rho/4; # normalize since p(k0,k1) = 1/4\n",
    "\n",
    "# Let's print everything, rounding to 3 digits\n",
    "print(\"Original qubit \", round(ψ,3), \"\\n\");\n",
    "print(\"Encrypted qubit \", round(psiEnc,3), \"\\n\");\n",
    "print(\"Decrypted qubit \", round(psiDec,3), \"\\n\");\n",
    "print(\"Average state over all possible keys \\n\", round(rho,3));"
   ]
  },
  {
   "cell_type": "markdown",
   "metadata": {},
   "source": [
    "To understand this average state over all possible keys it is instructive to visualize the different states on the Bloch sphere, along with the average state. "
   ]
  },
  {
   "cell_type": "code",
   "execution_count": null,
   "metadata": {
    "collapsed": false
   },
   "outputs": [],
   "source": [
    "# States are taken from the previous piece of code! Change the state there to see what happens!\n",
    "\n",
    "f5 = figure(figsize=(10,10)) # let us make a plot figure\n",
    "b5 = Bloch()\n",
    "\n",
    "# we want to manipulate our view angle, the key and we might want to see what Eve sees.\n",
    "@manipulate for view_angle = [60,15,-30]\n",
    "    clear(b5)\n",
    "    for k0 in 0:1, k1 in 0:1\n",
    "        ψ_enc = (pX^k0)*(pZ^k1)*ψ # transform psi according to k0 and k1\n",
    "        v = ket_to_bloch(ψ_enc) # constuct the associated bloch vector   \n",
    "        add_vector(b5,v, \"\\$k_0,k_1 =\\$ $k0, $k1\") # add the encoded state   \n",
    "    end\n",
    "    add_point(b5,[0,0,0],\"average state\", 100) # on average the encoded states are located in the center.\n",
    "\n",
    "    withfig(f5) do  \n",
    "        render(b5,view_angle)\n",
    "    end \n",
    "end"
   ]
  },
  {
   "cell_type": "markdown",
   "metadata": {},
   "source": [
    "<h3 style=\"color:#00A6D6;\">edX Exercise 5 </h3>\n",
    "\n",
    "Suppose the key that Alice and Bob share is $k_0k_1 = 10$. Bob receives the encrypted qubit \n",
    "\n",
    "$$|\\psi_\\text{enc}\\rangle = \\frac{1}{\\sqrt{3}}|0\\rangle + \\sqrt{\\frac{2}{3}}|1\\rangle \\:. $$\n",
    "\n",
    "What is the decrypted qubit $|\\psi\\rangle$ that Alice wanted to send?\n",
    "\n",
    "Remember to decrypt, Bob computes $Z^{k_1} X^{k_0} \\lvert \\Psi_{\\rm enc}\\rangle$. \n"
   ]
  },
  {
   "cell_type": "code",
   "execution_count": null,
   "metadata": {
    "collapsed": true
   },
   "outputs": [],
   "source": [
    "# in case you'd like to make use of code your code may go here"
   ]
  },
  {
   "cell_type": "markdown",
   "metadata": {},
   "source": [
    "<a id=\"cqstates\"></a>\n",
    "<h2 style=\"color:#00A6D6;\"> Classical Quantum States </h2>\n",
    "\n",
    "When considering two systems $X$ and $A$ we saw that their joint state can be in a very special state namely a $cq$-state, short for classical-quantum state. This naming reflects the fact that register $X$ just captures a classical probability distribution over what states $\\rho_x^A$ are prepared on $A$.\n",
    "\n",
    "$$ \\rho_{XA} = \\sum_{x} p_x \\cdot \\lvert x \\rangle \\langle x \\rvert^X \\otimes \\rho_x^A \\:.$$\n",
    "\n",
    "As matrices, these states have a very special form, which we will investigate now! Investigate the example of $X$ and $A$ just being a single qubit using the code below. What do you conclude about (the form of the matrix) $\\rho_{XA}$?"
   ]
  },
  {
   "cell_type": "code",
   "execution_count": null,
   "metadata": {
    "collapsed": false
   },
   "outputs": [],
   "source": [
    "# Let's construct a cq state where X and A are qubits\n",
    "\n",
    "# |0> and |1> and the corresponding density matrices |0><0| and |1><1| on X\n",
    "v0 = [1;0];\n",
    "v1 = [0;1];\n",
    "xx_0 = v0 * v0';   # |0><0|\n",
    "xx_1 = v1 * v1';   # |1><1|\n",
    "\n",
    "# let's choose probabilities\n",
    "p0 = 0.5;\n",
    "p1 = 1 - p0;\n",
    "\n",
    "# states on A\n",
    "rho_0 = [0.5 0; 0 0.5];\n",
    "rho_1 = [0 0; 0 1];\n",
    "\n",
    "# Constructint he cq state\n",
    "rho_XA = p0 * kron(xx_0,rho_0) + p1 * kron(xx_1,rho_1);\n",
    "\n",
    "println(\"Probabilities: \\n\\n p_0 = $p0 \\n p_1 = $p1 \\n\")\n",
    "println(\"Quantum states on A: \\n \\n rho_0 = \\n $rho_0 \\n\\n rho_1 = \\n $rho_1 \\n\")\n",
    "println(\"CQ state: \\n\\n rho_XA = \\n $rho_XA\")"
   ]
  },
  {
   "cell_type": "markdown",
   "metadata": {},
   "source": [
    "<h3 style=\"color:#00A6D6;\">edX Exercise 6</h3>\n",
    "\n",
    "Given quantum states\n",
    "\n",
    "$$ \\rho_0^A \\:\\:  = \\lvert - \\rangle \\langle - \\rvert $$\n",
    "\n",
    "$$ \\rho_1^A \\:\\: = \\lvert + \\rangle \\langle + \\rvert $$\n",
    "\n",
    "and probabilities\n",
    "\n",
    "$$ p_0 = \\frac{2}{3}, \\quad p_1 = \\frac{1}{3} $$\n",
    "\n",
    "<b> construct the associated classical quantum state: the 4 by 4 density matrix $\\rho_{XA}$.</b>"
   ]
  },
  {
   "cell_type": "code",
   "execution_count": null,
   "metadata": {
    "collapsed": true
   },
   "outputs": [],
   "source": [
    "# Any Julia code you'd like to use may go here"
   ]
  },
  {
   "cell_type": "markdown",
   "metadata": {},
   "source": [
    "----\n",
    "<a id=\"gmeasurements\"></a>\n",
    "<h2 style=\"color:#00A6D6;\"> Generalized Measurements </h2>\n",
    "\n",
    "As we have learned, we can perform measurements which are more complicated than simply measuring the entire state in a basis! This will be very useful for making a partial measurement, but also to explore what happens if we have two quantum systems $A$ and $B$, but we decide to measure only $A$. \n",
    "\n",
    "As an interesting example of a partial measurement, let's imagine that we have $2$ qubits. Instead of measuring in the standard basis, we are actually only interested in the parity in the standard basis. Interestingly enough we could peform a measurement with the following measurement operators, where the outcome corresponds to the parity\n",
    "\n",
    "$$M_0 = |0\\rangle\\langle 0| \\otimes |0\\rangle \\langle 0| + |1\\rangle\\langle 1| \\otimes |1\\rangle \\langle 1| = |00\\rangle\\langle 00| + |11\\rangle\\langle 11|$$\n",
    "$$M_1 = |1\\rangle\\langle 1| \\otimes |0\\rangle \\langle 0| + |0\\rangle\\langle 0| \\otimes |1\\rangle \\langle 1| = |01\\rangle\\langle 01| + |10\\rangle\\langle 10|$$\n",
    "\n",
    "Why bother? We could of course just measure in the standard basis, and then compute the parity bases on the classical measurement outcomes? \n",
    "\n",
    "It turns out that the post-measurement state of these two approaches differs. Performing a measurement with the operators above the post-measurement we get when measuring $\\rho$ are\n",
    "\n",
    "$$\\text{Post-measurement state after outcome 0: }\\qquad\\rho_\\text{post 0} = \\frac{M_0 \\rho M_0^\\dagger}{Tr\\left(M_0 \\rho M_0^\\dagger\\right)}$$\n",
    "$$\\text{Post-measurement state after outcome 1: }\\qquad\\rho_\\text{post 1} = \\frac{M_1 \\rho M_1^\\dagger}{Tr\\left(M_1 \\rho M_1^\\dagger\\right)}$$\n",
    "\n",
    "However, the post-measurement states that we would get for measuring in the standard basis are just given by the standard basis elements $\\{|00\\rangle, |01\\rangle,|01\\rangle,|11\\rangle\\}$. Even if we were to forget the measurement outcomes and just remember the parity we would have the following density matrices only\n",
    "\n",
    "$$\\text{Post-measurement state for parity 0, full measurement: }\\qquad\\sigma_\\text{post 0} = \\frac{|00\\rangle\\langle 00|\\rho |00\\rangle\\langle 00| + |11\\rangle\\langle 11| \\rho |11\\rangle \\langle 11|}\n",
    "{Tr\\left(M_0 \\rho M_0^\\dagger\\right)}$$\n",
    "$$\\text{Post-measurement state for parity 1, full measurement: }\\qquad \\sigma_\\text{post 1} = \\frac{|01\\rangle\\langle 01| \\rho |01\\rangle \\langle 01|+|10\\rangle\\langle 10| \\rho |10\\rangle \\langle 10|}\n",
    "{Tr\\left(M_1 \\rho M_1^\\dagger\\right)}$$\n",
    "\n",
    "Let's explore this difference!"
   ]
  },
  {
   "cell_type": "code",
   "execution_count": null,
   "metadata": {
    "collapsed": false
   },
   "outputs": [],
   "source": [
    "# State to be measured - change this to explore! \n",
    "\n",
    "# Suggested example states\n",
    "epr = [1;0;0;1]/sqrt(2);\n",
    "singlet = [0;1;-1;0]/sqrt(2);\n",
    "\n",
    "rho = kron(epr',epr); # Default is the EPR pair on two qubits\n",
    "\n",
    "# Let's first define the standard basis for two qubits\n",
    "v00 = [1; 0; 0; 0];\n",
    "v01 = [0; 1; 0; 0];\n",
    "v10 = [0; 0; 1; 0];\n",
    "v11 = [0; 0; 0; 1];\n",
    "\n",
    "# Let's define the projectors onto the standard basis elements\n",
    "proj00 = v00*v00';\n",
    "proj01 = v01*v01';\n",
    "proj10 = v10*v10';\n",
    "proj11 = v11*v11';\n",
    "\n",
    "# Let's define the parity measurement operators\n",
    "M0 = proj00 + proj11;\n",
    "M1 = proj01 + proj10;\n",
    "\n",
    "# Let's compute the probabilites of seeing parity 0 and parity 1\n",
    "p0 = trace(M0 * rho); # Just one M0 - it's a projector so M0 * M0 = M0\n",
    "p1 = trace(M1 * rho);\n",
    "\n",
    "# Let's compute the post measurement states\n",
    "rhoPost0 = M0*rho*M0'/p0;\n",
    "rhoPost1 = M1*rho*M1'/p1;\n",
    "\n",
    "sigmaPost0 = (proj00*rho*proj00 + proj11*rho*proj11)/p0;\n",
    "sigmaPost1 = (proj01*rho*proj01 + proj10*rho*proj10)/p1;\n",
    "\n",
    "# Let's display the matrices, rounding to 3 digits\n",
    "if(p0 > 0)\n",
    "    print(\"Post measurement state after outcome 0, parity measurement\\n\",round(rhoPost0,3),\"\\n\")\n",
    "    print(\"Post measurement state of parity 0, full measurement\\n\",round(sigmaPost0,3),\"\\n\")\n",
    "else\n",
    "    print(\"Outcome 0 never occurs - no even parity components \\n\")\n",
    "end\n",
    "\n",
    "if(p1 > 0)\n",
    "    print(\"Post measurement state after outcome 1, parity measurement\\n\",round(rhoPost1,3),\"\\n\")\n",
    "    print(\"Post measurement state for parity 1, full measurement\\n\",round(sigmaPost1,3),\"\\n\")\n",
    "else\n",
    "    print(\"Outcome 1 never occurs - no odd parity components \\n\")\n",
    "end"
   ]
  },
  {
   "cell_type": "markdown",
   "metadata": {},
   "source": [
    "<h3 style=\"color:#00A6D6;\"> edX Exercise 7 </h3>\n",
    "\n",
    "Let's now explore generalized measurements when measuring one of several qubits! Imagine that Alice and Bob each have a qubit and that they have managed to prepare the qubits in the entangled state \n",
    "\n",
    "$$ \\lvert \\psi_{AB} \\rangle = \\frac{1}{\\sqrt2} \\Big( \\lvert 00 \\rangle_{AB} + \\lvert 11 \\rangle_{AB} \\Big)\\:. $$\n",
    "\n",
    "Written as a density matrix, the state is thus\n",
    "\n",
    "$$ \\rho_{AB} = \\lvert \\psi_{AB} \\rangle \\langle \\psi_{AB} \\rvert $$\n",
    "\n",
    "Now imagine that Alice measures the state of her qubit $A$ in the standard basis. This measurement can be described using the following measurement operators in which we tensor the elements of the standard basis on Alice's qubit $A$ with the identity (i.e., ''do nothing'') on Bob's qubit $B$.\n",
    "\n",
    "$$ M_0^A = \\lvert 0 \\rangle \\langle 0 \\rvert_A \\otimes I_B $$\n",
    "\n",
    "$$ M_1^A = \\lvert 1 \\rangle \\langle 1 \\rvert_A \\otimes I_B \\:.$$\n",
    "\n",
    "Accordingly the probability that Alice obtains outcomes $a$ when measuring is\n",
    "\n",
    "$$ p_a = P(A=a) = \\text{Tr} \\Big( M_a^A \\cdot \\rho_{AB} \\Big ) $$\n",
    "\n",
    "<b> Compute $p_0$ and $p_1$. </b>\n"
   ]
  },
  {
   "cell_type": "code",
   "execution_count": null,
   "metadata": {
    "collapsed": true
   },
   "outputs": [],
   "source": [
    "# Your Julia code goes here"
   ]
  },
  {
   "cell_type": "markdown",
   "metadata": {},
   "source": [
    "<h3 style=\"color:#00A6D6;\">edX Exercise 8</h3>\n",
    "\n",
    "For the measurement considered above, what are the post-measurement states $\\rho^{a}_{AB}$ on qubits $A$ and $B$ for Alice's measurement outcomes $a \\in \\{0,1\\}$?\n",
    "\n",
    "Compute the post-measurement states $\\rho^0_{AB}$ and $\\rho^1_{AB}$ for Alice's meas\n",
    "\n",
    "To help you get started \n",
    "\n",
    "$$ \\rho^{a=0}_{AB} = \\frac{M_0^A \\cdot \\rho_{AB} \\cdot  M_0^A}{p_{a=0}} $$  \n",
    "\n",
    "$$ \\rho^{a=1}_{AB} = \\frac{M_1^A \\cdot \\rho_{AB} \\cdot  M_1^A}{p_{a=1}} $$  "
   ]
  },
  {
   "cell_type": "markdown",
   "metadata": {},
   "source": [
    "<a id=\"ptrace\"></a>\n",
    "<h2 style=\"color:#00A6D6;\"> Partial Trace </h2>\n",
    "\n",
    "We have just considered measurements performed by Alice and Bob on qubits A and B.\n",
    "\n",
    "It turns out that Alice can effectively represent the state $\\rho_A$ of her qubit A by \"tracing out\" qubit B. \n"
   ]
  },
  {
   "cell_type": "code",
   "execution_count": null,
   "metadata": {
    "collapsed": true
   },
   "outputs": [],
   "source": []
  },
  {
   "cell_type": "markdown",
   "metadata": {},
   "source": [
    "<h3 style=\"color:#00A6D6;\"> Exercise 9 </h3>\n",
    "\n",
    "Given \n",
    "\n",
    "$$ \\rho_{AB} = \\frac{1}{2} \\cdot \\begin{pmatrix} 1 & 0 & 0 & 1 \\\\ 0 & 0 & 0 & 0 \\\\ 0 & 0 & 0 & 0 \\\\ 1 & 0 & 0 & 1 \\end{pmatrix} $$\n",
    "\n",
    "\n",
    "(a.) <b> what is $\\rho_A$? </b>\n",
    "\n",
    "For clarity $\\rho_A = \\text{Tr}_B \\Big( \\rho_{AB} \\Big)$.\n",
    "\n",
    "(b.) <b> what are the measurement probabilities </b>\n",
    "\n",
    "$$p_0 = \\text{Tr}\\big(\\lvert 0 \\rangle \\langle 0 \\rvert \\cdot \\rho_A\\big)$$\n",
    "$$p_1 = \\text{Tr}\\big(\\lvert 1 \\rangle \\langle 1 \\rvert \\cdot \\rho_A\\big) \\:?$$\n",
    "\n",
    "Not graded: Do you get the same results as in exercise 8? "
   ]
  },
  {
   "cell_type": "code",
   "execution_count": null,
   "metadata": {
    "collapsed": true
   },
   "outputs": [],
   "source": []
  },
  {
   "cell_type": "markdown",
   "metadata": {},
   "source": [
    "<h3 style=\"color:#00A6D6;\"> Exercise 10 </h3>\n",
    "\n",
    "A three party quantum state that has its own name is the GHZ state:\n",
    "\n",
    "$$ \\lvert GHZ \\rangle =  \\frac{1}{\\sqrt{2}} \\Big( \\lvert 000 \\rangle + \\lvert 111 \\rangle \\Big) $$\n",
    "\n",
    "Written as a density matrix, the state is thus:\n",
    "\n",
    "$$ \\rho_{ABC} = \\lvert GHZ \\rangle\\langle GHZ \\rvert$$\n",
    "\n",
    "<b> Compute density matrices $\\rho_{AB}$, $\\rho_{BC}$ and $\\rho_{AC}$ .</b>"
   ]
  },
  {
   "cell_type": "code",
   "execution_count": null,
   "metadata": {
    "collapsed": true
   },
   "outputs": [],
   "source": []
  },
  {
   "cell_type": "markdown",
   "metadata": {},
   "source": [
    "<a rel=\"license\" href=\"http://creativecommons.org/licenses/by-nc/4.0/\"><img alt=\"Creative Commons License\" style=\"border-width:0\" src=\"https://i.creativecommons.org/l/by-nc/4.0/88x31.png\" /></a><br /><span xmlns:dct=\"http://purl.org/dc/terms/\" property=\"dct:title\">Week 1 Exercises for QuCryptoX</span> by Willem Hekman and Stephanie Wehner for <a xmlns:cc=\"http://creativecommons.org/ns#\" href=\"http://qutech.nl/edu/\" property=\"cc:attributionName\" rel=\"cc:attributionURL\">QuTech Academy</a> is licensed under a <a rel=\"license\" href=\"http://creativecommons.org/licenses/by-nc/4.0/\">Creative Commons Attribution-NonCommercial 4.0 International License</a>."
   ]
  }
 ],
 "metadata": {
  "kernelspec": {
   "display_name": "Julia 0.5.0",
   "language": "julia",
   "name": "julia-0.5"
  },
  "language_info": {
   "file_extension": ".jl",
   "mimetype": "application/julia",
   "name": "julia",
   "version": "0.5.0"
  }
 },
 "nbformat": 4,
 "nbformat_minor": 0
}
